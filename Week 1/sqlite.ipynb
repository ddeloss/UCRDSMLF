{
 "cells": [
  {
   "cell_type": "markdown",
   "metadata": {},
   "source": [
    "#### !!!!! This tutorial was created by Plot.ly, you will need to install plotly and SQLite to use this notebook.\n",
    "#### !!!!! It is not included in Anaconda. !!!!!\n",
    "Check https://plot.ly/python/getting-started/ for installation instructions for Plotly \n",
    "and https://www.sqlite.org/download.html for instructions on how to install SQLite.\n",
    "\n",
    "\n",
    "******"
   ]
  },
  {
   "cell_type": "markdown",
   "metadata": {},
   "source": [
    "## A Large Data Workflow with Pandas \n",
    "\n",
    "\n",
    "##### Data Analysis of 8.2 Million Rows with Python and SQLite\n",
    "\n",
    "This notebook explores a 3.9Gb CSV file containing NYC's 311 complaints since 2003. It's the most popular data set in [NYC's open data portal](https://nycopendata.socrata.com/data).\n",
    "\n",
    "This notebook is a primer on out-of-memory data analysis with\n",
    "- [pandas](http://pandas.pydata.org/): A library with easy-to-use data structures and data analysis tools. Also, interfaces to out-of-memory databases like SQLite.\n",
    "- [IPython notebook](ipython.org/notebook.html): An interface for writing and sharing python code, text, and plots.\n",
    "- [SQLite](https://www.sqlite.org/): An self-contained, server-less database that's easy to set-up and query from Pandas.\n",
    "- [Plotly](https://plot.ly/python/): A platform for publishing beautiful, interactive graphs from Python to the web.\n",
    "\n",
    "The dataset is too large to load into a Pandas dataframe. So, instead we'll perform out-of-memory aggregations with SQLite and load the result directly into a dataframe with Panda's `iotools`. It's pretty easy to stream a CSV into SQLite and SQLite requires no setup. The SQL query language is pretty intuitive coming from a Pandas mindset."
   ]
  },
  {
   "cell_type": "code",
   "execution_count": 2,
   "metadata": {
    "collapsed": true
   },
   "outputs": [],
   "source": [
    "import pandas as pd\n",
    "from sqlalchemy import create_engine # database connection\n",
    "import datetime as dt\n",
    "from IPython.display import display\n",
    "\n",
    "import plotly.plotly as py # interactive graphing\n",
    "from plotly.graph_objs import Bar, Scatter, Marker, Layout "
   ]
  },
  {
   "cell_type": "markdown",
   "metadata": {},
   "source": [
    "#### Import the CSV data into SQLite\n",
    "\n",
    "1. Load the CSV, chunk-by-chunk, into a DataFrame\n",
    "2. Process the data a bit, strip out uninteresting columns\n",
    "3. Append it to the SQLite database"
   ]
  },
  {
   "cell_type": "code",
   "execution_count": 3,
   "metadata": {
    "collapsed": false
   },
   "outputs": [
    {
     "data": {
      "text/html": [
       "<div>\n",
       "<table border=\"1\" class=\"dataframe\">\n",
       "  <thead>\n",
       "    <tr style=\"text-align: right;\">\n",
       "      <th></th>\n",
       "      <th>Unique Key</th>\n",
       "      <th>Created Date</th>\n",
       "      <th>Closed Date</th>\n",
       "      <th>Agency</th>\n",
       "      <th>Agency Name</th>\n",
       "      <th>Complaint Type</th>\n",
       "      <th>Descriptor</th>\n",
       "      <th>Location Type</th>\n",
       "      <th>Incident Zip</th>\n",
       "      <th>Incident Address</th>\n",
       "      <th>...</th>\n",
       "      <th>Bridge Highway Name</th>\n",
       "      <th>Bridge Highway Direction</th>\n",
       "      <th>Road Ramp</th>\n",
       "      <th>Bridge Highway Segment</th>\n",
       "      <th>Garage Lot Name</th>\n",
       "      <th>Ferry Direction</th>\n",
       "      <th>Ferry Terminal Name</th>\n",
       "      <th>Latitude</th>\n",
       "      <th>Longitude</th>\n",
       "      <th>Location</th>\n",
       "    </tr>\n",
       "  </thead>\n",
       "  <tbody>\n",
       "    <tr>\n",
       "      <th>0</th>\n",
       "      <td>25723045</td>\n",
       "      <td>06/11/2013 04:59:00 PM</td>\n",
       "      <td>06/13/2013 12:00:00 PM</td>\n",
       "      <td>DSNY</td>\n",
       "      <td>A - Canine Task Force Citywide</td>\n",
       "      <td>Dirty Conditions</td>\n",
       "      <td>E8 Canine Violation</td>\n",
       "      <td>Sidewalk</td>\n",
       "      <td>11419</td>\n",
       "      <td>94-50 118 STREET</td>\n",
       "      <td>...</td>\n",
       "      <td>NaN</td>\n",
       "      <td>NaN</td>\n",
       "      <td>NaN</td>\n",
       "      <td>NaN</td>\n",
       "      <td>NaN</td>\n",
       "      <td>NaN</td>\n",
       "      <td>NaN</td>\n",
       "      <td>40.692930</td>\n",
       "      <td>-73.828438</td>\n",
       "      <td>(40.69292971410803, -73.8284375240509)</td>\n",
       "    </tr>\n",
       "    <tr>\n",
       "      <th>1</th>\n",
       "      <td>25723044</td>\n",
       "      <td>06/11/2013 09:35:00 PM</td>\n",
       "      <td>06/18/2013 12:00:00 PM</td>\n",
       "      <td>DSNY</td>\n",
       "      <td>A - Brooklyn</td>\n",
       "      <td>Dirty Conditions</td>\n",
       "      <td>E5 Loose Rubbish</td>\n",
       "      <td>Sidewalk</td>\n",
       "      <td>11215</td>\n",
       "      <td>209 7 AVENUE</td>\n",
       "      <td>...</td>\n",
       "      <td>NaN</td>\n",
       "      <td>NaN</td>\n",
       "      <td>NaN</td>\n",
       "      <td>NaN</td>\n",
       "      <td>NaN</td>\n",
       "      <td>NaN</td>\n",
       "      <td>NaN</td>\n",
       "      <td>40.670417</td>\n",
       "      <td>-73.978623</td>\n",
       "      <td>(40.67041672164416, -73.97862322511882)</td>\n",
       "    </tr>\n",
       "  </tbody>\n",
       "</table>\n",
       "<p>2 rows × 52 columns</p>\n",
       "</div>"
      ],
      "text/plain": [
       "   Unique Key            Created Date             Closed Date Agency  \\\n",
       "0    25723045  06/11/2013 04:59:00 PM  06/13/2013 12:00:00 PM   DSNY   \n",
       "1    25723044  06/11/2013 09:35:00 PM  06/18/2013 12:00:00 PM   DSNY   \n",
       "\n",
       "                      Agency Name    Complaint Type           Descriptor  \\\n",
       "0  A - Canine Task Force Citywide  Dirty Conditions  E8 Canine Violation   \n",
       "1                    A - Brooklyn  Dirty Conditions     E5 Loose Rubbish   \n",
       "\n",
       "  Location Type  Incident Zip  Incident Address  \\\n",
       "0      Sidewalk         11419  94-50 118 STREET   \n",
       "1      Sidewalk         11215      209 7 AVENUE   \n",
       "\n",
       "                    ...                    Bridge Highway Name  \\\n",
       "0                   ...                                    NaN   \n",
       "1                   ...                                    NaN   \n",
       "\n",
       "  Bridge Highway Direction Road Ramp  Bridge Highway Segment  Garage Lot Name  \\\n",
       "0                      NaN       NaN                     NaN              NaN   \n",
       "1                      NaN       NaN                     NaN              NaN   \n",
       "\n",
       "  Ferry Direction Ferry Terminal Name   Latitude  Longitude  \\\n",
       "0             NaN                 NaN  40.692930 -73.828438   \n",
       "1             NaN                 NaN  40.670417 -73.978623   \n",
       "\n",
       "                                  Location  \n",
       "0   (40.69292971410803, -73.8284375240509)  \n",
       "1  (40.67041672164416, -73.97862322511882)  \n",
       "\n",
       "[2 rows x 52 columns]"
      ]
     },
     "metadata": {},
     "output_type": "display_data"
    },
    {
     "data": {
      "text/html": [
       "<div>\n",
       "<table border=\"1\" class=\"dataframe\">\n",
       "  <thead>\n",
       "    <tr style=\"text-align: right;\">\n",
       "      <th></th>\n",
       "      <th>Unique Key</th>\n",
       "      <th>Created Date</th>\n",
       "      <th>Closed Date</th>\n",
       "      <th>Agency</th>\n",
       "      <th>Agency Name</th>\n",
       "      <th>Complaint Type</th>\n",
       "      <th>Descriptor</th>\n",
       "      <th>Location Type</th>\n",
       "      <th>Incident Zip</th>\n",
       "      <th>Incident Address</th>\n",
       "      <th>...</th>\n",
       "      <th>Bridge Highway Name</th>\n",
       "      <th>Bridge Highway Direction</th>\n",
       "      <th>Road Ramp</th>\n",
       "      <th>Bridge Highway Segment</th>\n",
       "      <th>Garage Lot Name</th>\n",
       "      <th>Ferry Direction</th>\n",
       "      <th>Ferry Terminal Name</th>\n",
       "      <th>Latitude</th>\n",
       "      <th>Longitude</th>\n",
       "      <th>Location</th>\n",
       "    </tr>\n",
       "  </thead>\n",
       "  <tbody>\n",
       "    <tr>\n",
       "      <th>0</th>\n",
       "      <td>25723045</td>\n",
       "      <td>06/11/2013 04:59:00 PM</td>\n",
       "      <td>06/13/2013 12:00:00 PM</td>\n",
       "      <td>DSNY</td>\n",
       "      <td>A - Canine Task Force Citywide</td>\n",
       "      <td>Dirty Conditions</td>\n",
       "      <td>E8 Canine Violation</td>\n",
       "      <td>Sidewalk</td>\n",
       "      <td>11419</td>\n",
       "      <td>94-50 118 STREET</td>\n",
       "      <td>...</td>\n",
       "      <td>NaN</td>\n",
       "      <td>NaN</td>\n",
       "      <td>NaN</td>\n",
       "      <td>NaN</td>\n",
       "      <td>NaN</td>\n",
       "      <td>NaN</td>\n",
       "      <td>NaN</td>\n",
       "      <td>40.692930</td>\n",
       "      <td>-73.828438</td>\n",
       "      <td>(40.69292971410803, -73.8284375240509)</td>\n",
       "    </tr>\n",
       "    <tr>\n",
       "      <th>1</th>\n",
       "      <td>25723044</td>\n",
       "      <td>06/11/2013 09:35:00 PM</td>\n",
       "      <td>06/18/2013 12:00:00 PM</td>\n",
       "      <td>DSNY</td>\n",
       "      <td>A - Brooklyn</td>\n",
       "      <td>Dirty Conditions</td>\n",
       "      <td>E5 Loose Rubbish</td>\n",
       "      <td>Sidewalk</td>\n",
       "      <td>11215</td>\n",
       "      <td>209 7 AVENUE</td>\n",
       "      <td>...</td>\n",
       "      <td>NaN</td>\n",
       "      <td>NaN</td>\n",
       "      <td>NaN</td>\n",
       "      <td>NaN</td>\n",
       "      <td>NaN</td>\n",
       "      <td>NaN</td>\n",
       "      <td>NaN</td>\n",
       "      <td>40.670417</td>\n",
       "      <td>-73.978623</td>\n",
       "      <td>(40.67041672164416, -73.97862322511882)</td>\n",
       "    </tr>\n",
       "  </tbody>\n",
       "</table>\n",
       "<p>2 rows × 52 columns</p>\n",
       "</div>"
      ],
      "text/plain": [
       "   Unique Key            Created Date             Closed Date Agency  \\\n",
       "0    25723045  06/11/2013 04:59:00 PM  06/13/2013 12:00:00 PM   DSNY   \n",
       "1    25723044  06/11/2013 09:35:00 PM  06/18/2013 12:00:00 PM   DSNY   \n",
       "\n",
       "                      Agency Name    Complaint Type           Descriptor  \\\n",
       "0  A - Canine Task Force Citywide  Dirty Conditions  E8 Canine Violation   \n",
       "1                    A - Brooklyn  Dirty Conditions     E5 Loose Rubbish   \n",
       "\n",
       "  Location Type  Incident Zip  Incident Address  \\\n",
       "0      Sidewalk         11419  94-50 118 STREET   \n",
       "1      Sidewalk         11215      209 7 AVENUE   \n",
       "\n",
       "                    ...                    Bridge Highway Name  \\\n",
       "0                   ...                                    NaN   \n",
       "1                   ...                                    NaN   \n",
       "\n",
       "  Bridge Highway Direction Road Ramp  Bridge Highway Segment  Garage Lot Name  \\\n",
       "0                      NaN       NaN                     NaN              NaN   \n",
       "1                      NaN       NaN                     NaN              NaN   \n",
       "\n",
       "  Ferry Direction Ferry Terminal Name   Latitude  Longitude  \\\n",
       "0             NaN                 NaN  40.692930 -73.828438   \n",
       "1             NaN                 NaN  40.670417 -73.978623   \n",
       "\n",
       "                                  Location  \n",
       "0   (40.69292971410803, -73.8284375240509)  \n",
       "1  (40.67041672164416, -73.97862322511882)  \n",
       "\n",
       "[2 rows x 52 columns]"
      ]
     },
     "metadata": {},
     "output_type": "display_data"
    }
   ],
   "source": [
    "display(pd.read_csv('/home/denton/Downloads/2013_311_Service_Requests.csv', nrows=2).head())\n",
    "display(pd.read_csv('/home/denton/Downloads/2013_311_Service_Requests.csv', nrows=2).tail())"
   ]
  },
  {
   "cell_type": "code",
   "execution_count": 4,
   "metadata": {
    "collapsed": false
   },
   "outputs": [
    {
     "name": "stdout",
     "output_type": "stream",
     "text": [
      "1611456\r\n"
     ]
    }
   ],
   "source": [
    "!wc -l < /home/denton/Downloads/2013_311_Service_Requests.csv # Number of lines in dataset"
   ]
  },
  {
   "cell_type": "code",
   "execution_count": 5,
   "metadata": {
    "collapsed": true
   },
   "outputs": [],
   "source": [
    "disk_engine = create_engine('sqlite:///311_8M.db') # Initializes database with filename 311_8M.db in current directory"
   ]
  },
  {
   "cell_type": "code",
   "execution_count": 6,
   "metadata": {
    "collapsed": false
   },
   "outputs": [
    {
     "name": "stderr",
     "output_type": "stream",
     "text": [
      "/home/denton/anaconda2/lib/python2.7/site-packages/ipykernel/ipkernel.py:199: DtypeWarning:\n",
      "\n",
      "Columns (17,39,40) have mixed types. Specify dtype option on import or set low_memory=False.\n",
      "\n"
     ]
    },
    {
     "name": "stdout",
     "output_type": "stream",
     "text": [
      "4 seconds: completed 20000 rows\n"
     ]
    },
    {
     "name": "stderr",
     "output_type": "stream",
     "text": [
      "/home/denton/anaconda2/lib/python2.7/site-packages/ipykernel/ipkernel.py:199: DtypeWarning:\n",
      "\n",
      "Columns (42,43,44,45) have mixed types. Specify dtype option on import or set low_memory=False.\n",
      "\n"
     ]
    },
    {
     "name": "stdout",
     "output_type": "stream",
     "text": [
      "10 seconds: completed 40000 rows\n",
      "15 seconds: completed 60000 rows\n"
     ]
    },
    {
     "name": "stderr",
     "output_type": "stream",
     "text": [
      "/home/denton/anaconda2/lib/python2.7/site-packages/ipykernel/ipkernel.py:199: DtypeWarning:\n",
      "\n",
      "Columns (17,42,43,44,45) have mixed types. Specify dtype option on import or set low_memory=False.\n",
      "\n"
     ]
    },
    {
     "name": "stdout",
     "output_type": "stream",
     "text": [
      "21 seconds: completed 80000 rows\n",
      "26 seconds: completed 100000 rows\n"
     ]
    },
    {
     "name": "stderr",
     "output_type": "stream",
     "text": [
      "/home/denton/anaconda2/lib/python2.7/site-packages/ipykernel/ipkernel.py:199: DtypeWarning:\n",
      "\n",
      "Columns (20,42,43,44,45) have mixed types. Specify dtype option on import or set low_memory=False.\n",
      "\n"
     ]
    },
    {
     "name": "stdout",
     "output_type": "stream",
     "text": [
      "32 seconds: completed 120000 rows\n",
      "38 seconds: completed 140000 rows\n",
      "43 seconds: completed 160000 rows\n",
      "49 seconds: completed 180000 rows\n",
      "54 seconds: completed 200000 rows\n",
      "59 seconds: completed 220000 rows\n"
     ]
    },
    {
     "name": "stderr",
     "output_type": "stream",
     "text": [
      "/home/denton/anaconda2/lib/python2.7/site-packages/ipykernel/ipkernel.py:199: DtypeWarning:\n",
      "\n",
      "Columns (48) have mixed types. Specify dtype option on import or set low_memory=False.\n",
      "\n"
     ]
    },
    {
     "name": "stdout",
     "output_type": "stream",
     "text": [
      "65 seconds: completed 240000 rows\n",
      "70 seconds: completed 260000 rows\n",
      "76 seconds: completed 280000 rows\n"
     ]
    },
    {
     "name": "stderr",
     "output_type": "stream",
     "text": [
      "/home/denton/anaconda2/lib/python2.7/site-packages/ipykernel/ipkernel.py:199: DtypeWarning:\n",
      "\n",
      "Columns (8) have mixed types. Specify dtype option on import or set low_memory=False.\n",
      "\n"
     ]
    },
    {
     "name": "stdout",
     "output_type": "stream",
     "text": [
      "81 seconds: completed 300000 rows\n"
     ]
    },
    {
     "name": "stderr",
     "output_type": "stream",
     "text": [
      "/home/denton/anaconda2/lib/python2.7/site-packages/ipykernel/ipkernel.py:199: DtypeWarning:\n",
      "\n",
      "Columns (8,17) have mixed types. Specify dtype option on import or set low_memory=False.\n",
      "\n"
     ]
    },
    {
     "name": "stdout",
     "output_type": "stream",
     "text": [
      "87 seconds: completed 320000 rows\n",
      "92 seconds: completed 340000 rows\n"
     ]
    },
    {
     "name": "stderr",
     "output_type": "stream",
     "text": [
      "/home/denton/anaconda2/lib/python2.7/site-packages/ipykernel/ipkernel.py:199: DtypeWarning:\n",
      "\n",
      "Columns (8,17,46) have mixed types. Specify dtype option on import or set low_memory=False.\n",
      "\n"
     ]
    },
    {
     "name": "stdout",
     "output_type": "stream",
     "text": [
      "97 seconds: completed 360000 rows\n"
     ]
    },
    {
     "name": "stderr",
     "output_type": "stream",
     "text": [
      "/home/denton/anaconda2/lib/python2.7/site-packages/ipykernel/ipkernel.py:199: DtypeWarning:\n",
      "\n",
      "Columns (39,40,46,47) have mixed types. Specify dtype option on import or set low_memory=False.\n",
      "\n"
     ]
    },
    {
     "name": "stdout",
     "output_type": "stream",
     "text": [
      "103 seconds: completed 380000 rows\n",
      "108 seconds: completed 400000 rows\n",
      "113 seconds: completed 420000 rows\n",
      "118 seconds: completed 440000 rows\n",
      "123 seconds: completed 460000 rows\n",
      "129 seconds: completed 480000 rows\n"
     ]
    },
    {
     "name": "stderr",
     "output_type": "stream",
     "text": [
      "/home/denton/anaconda2/lib/python2.7/site-packages/ipykernel/ipkernel.py:199: DtypeWarning:\n",
      "\n",
      "Columns (47) have mixed types. Specify dtype option on import or set low_memory=False.\n",
      "\n"
     ]
    },
    {
     "name": "stdout",
     "output_type": "stream",
     "text": [
      "134 seconds: completed 500000 rows\n"
     ]
    },
    {
     "name": "stderr",
     "output_type": "stream",
     "text": [
      "/home/denton/anaconda2/lib/python2.7/site-packages/ipykernel/ipkernel.py:199: DtypeWarning:\n",
      "\n",
      "Columns (8,46) have mixed types. Specify dtype option on import or set low_memory=False.\n",
      "\n"
     ]
    },
    {
     "name": "stdout",
     "output_type": "stream",
     "text": [
      "139 seconds: completed 520000 rows\n"
     ]
    },
    {
     "name": "stderr",
     "output_type": "stream",
     "text": [
      "/home/denton/anaconda2/lib/python2.7/site-packages/ipykernel/ipkernel.py:199: DtypeWarning:\n",
      "\n",
      "Columns (8,47) have mixed types. Specify dtype option on import or set low_memory=False.\n",
      "\n"
     ]
    },
    {
     "name": "stdout",
     "output_type": "stream",
     "text": [
      "144 seconds: completed 540000 rows\n"
     ]
    },
    {
     "name": "stderr",
     "output_type": "stream",
     "text": [
      "/home/denton/anaconda2/lib/python2.7/site-packages/ipykernel/ipkernel.py:199: DtypeWarning:\n",
      "\n",
      "Columns (46,47) have mixed types. Specify dtype option on import or set low_memory=False.\n",
      "\n"
     ]
    },
    {
     "name": "stdout",
     "output_type": "stream",
     "text": [
      "150 seconds: completed 560000 rows\n",
      "155 seconds: completed 580000 rows\n"
     ]
    },
    {
     "name": "stderr",
     "output_type": "stream",
     "text": [
      "/home/denton/anaconda2/lib/python2.7/site-packages/ipykernel/ipkernel.py:199: DtypeWarning:\n",
      "\n",
      "Columns (8,17,39,40,47) have mixed types. Specify dtype option on import or set low_memory=False.\n",
      "\n"
     ]
    },
    {
     "name": "stdout",
     "output_type": "stream",
     "text": [
      "160 seconds: completed 600000 rows\n",
      "165 seconds: completed 620000 rows\n",
      "170 seconds: completed 640000 rows\n",
      "175 seconds: completed 660000 rows\n",
      "181 seconds: completed 680000 rows\n",
      "186 seconds: completed 700000 rows\n",
      "191 seconds: completed 720000 rows\n",
      "196 seconds: completed 740000 rows\n",
      "201 seconds: completed 760000 rows\n",
      "207 seconds: completed 780000 rows\n",
      "212 seconds: completed 800000 rows\n",
      "217 seconds: completed 820000 rows\n",
      "222 seconds: completed 840000 rows\n",
      "227 seconds: completed 860000 rows\n",
      "233 seconds: completed 880000 rows\n",
      "238 seconds: completed 900000 rows\n",
      "243 seconds: completed 920000 rows\n",
      "248 seconds: completed 940000 rows\n",
      "253 seconds: completed 960000 rows\n",
      "258 seconds: completed 980000 rows\n",
      "264 seconds: completed 1000000 rows\n",
      "269 seconds: completed 1020000 rows\n",
      "274 seconds: completed 1040000 rows\n",
      "279 seconds: completed 1060000 rows\n",
      "284 seconds: completed 1080000 rows\n",
      "290 seconds: completed 1100000 rows\n",
      "295 seconds: completed 1120000 rows\n",
      "300 seconds: completed 1140000 rows\n",
      "305 seconds: completed 1160000 rows\n",
      "311 seconds: completed 1180000 rows\n",
      "316 seconds: completed 1200000 rows\n"
     ]
    },
    {
     "name": "stderr",
     "output_type": "stream",
     "text": [
      "/home/denton/anaconda2/lib/python2.7/site-packages/ipykernel/ipkernel.py:199: DtypeWarning:\n",
      "\n",
      "Columns (8,40,46) have mixed types. Specify dtype option on import or set low_memory=False.\n",
      "\n"
     ]
    },
    {
     "name": "stdout",
     "output_type": "stream",
     "text": [
      "321 seconds: completed 1220000 rows\n"
     ]
    },
    {
     "name": "stderr",
     "output_type": "stream",
     "text": [
      "/home/denton/anaconda2/lib/python2.7/site-packages/ipykernel/ipkernel.py:199: DtypeWarning:\n",
      "\n",
      "Columns (17,47,48) have mixed types. Specify dtype option on import or set low_memory=False.\n",
      "\n"
     ]
    },
    {
     "name": "stdout",
     "output_type": "stream",
     "text": [
      "326 seconds: completed 1240000 rows\n"
     ]
    },
    {
     "name": "stderr",
     "output_type": "stream",
     "text": [
      "/home/denton/anaconda2/lib/python2.7/site-packages/ipykernel/ipkernel.py:199: DtypeWarning:\n",
      "\n",
      "Columns (8,17,47) have mixed types. Specify dtype option on import or set low_memory=False.\n",
      "\n"
     ]
    },
    {
     "name": "stdout",
     "output_type": "stream",
     "text": [
      "332 seconds: completed 1260000 rows\n",
      "337 seconds: completed 1280000 rows\n",
      "342 seconds: completed 1300000 rows\n"
     ]
    },
    {
     "name": "stderr",
     "output_type": "stream",
     "text": [
      "/home/denton/anaconda2/lib/python2.7/site-packages/ipykernel/ipkernel.py:199: DtypeWarning:\n",
      "\n",
      "Columns (46) have mixed types. Specify dtype option on import or set low_memory=False.\n",
      "\n"
     ]
    },
    {
     "name": "stdout",
     "output_type": "stream",
     "text": [
      "347 seconds: completed 1320000 rows\n"
     ]
    },
    {
     "name": "stderr",
     "output_type": "stream",
     "text": [
      "/home/denton/anaconda2/lib/python2.7/site-packages/ipykernel/ipkernel.py:199: DtypeWarning:\n",
      "\n",
      "Columns (47,48) have mixed types. Specify dtype option on import or set low_memory=False.\n",
      "\n"
     ]
    },
    {
     "name": "stdout",
     "output_type": "stream",
     "text": [
      "353 seconds: completed 1340000 rows\n",
      "358 seconds: completed 1360000 rows\n"
     ]
    },
    {
     "name": "stderr",
     "output_type": "stream",
     "text": [
      "/home/denton/anaconda2/lib/python2.7/site-packages/ipykernel/ipkernel.py:199: DtypeWarning:\n",
      "\n",
      "Columns (8,17,39,40,42,43,44,45) have mixed types. Specify dtype option on import or set low_memory=False.\n",
      "\n"
     ]
    },
    {
     "name": "stdout",
     "output_type": "stream",
     "text": [
      "363 seconds: completed 1380000 rows\n",
      "368 seconds: completed 1400000 rows\n"
     ]
    },
    {
     "name": "stderr",
     "output_type": "stream",
     "text": [
      "/home/denton/anaconda2/lib/python2.7/site-packages/ipykernel/ipkernel.py:199: DtypeWarning:\n",
      "\n",
      "Columns (42,43,44,45,48) have mixed types. Specify dtype option on import or set low_memory=False.\n",
      "\n"
     ]
    },
    {
     "name": "stdout",
     "output_type": "stream",
     "text": [
      "374 seconds: completed 1420000 rows\n"
     ]
    },
    {
     "name": "stderr",
     "output_type": "stream",
     "text": [
      "/home/denton/anaconda2/lib/python2.7/site-packages/ipykernel/ipkernel.py:199: DtypeWarning:\n",
      "\n",
      "Columns (17,39,40,42,43,44,45) have mixed types. Specify dtype option on import or set low_memory=False.\n",
      "\n"
     ]
    },
    {
     "name": "stdout",
     "output_type": "stream",
     "text": [
      "379 seconds: completed 1440000 rows\n",
      "384 seconds: completed 1460000 rows\n"
     ]
    },
    {
     "name": "stderr",
     "output_type": "stream",
     "text": [
      "/home/denton/anaconda2/lib/python2.7/site-packages/ipykernel/ipkernel.py:199: DtypeWarning:\n",
      "\n",
      "Columns (8,17,18,39,40,41,42,43,44,45) have mixed types. Specify dtype option on import or set low_memory=False.\n",
      "\n"
     ]
    },
    {
     "name": "stdout",
     "output_type": "stream",
     "text": [
      "389 seconds: completed 1480000 rows\n"
     ]
    },
    {
     "name": "stderr",
     "output_type": "stream",
     "text": [
      "/home/denton/anaconda2/lib/python2.7/site-packages/ipykernel/ipkernel.py:199: DtypeWarning:\n",
      "\n",
      "Columns (7,20,37) have mixed types. Specify dtype option on import or set low_memory=False.\n",
      "\n"
     ]
    },
    {
     "name": "stdout",
     "output_type": "stream",
     "text": [
      "394 seconds: completed 1500000 rows\n",
      "399 seconds: completed 1520000 rows\n"
     ]
    },
    {
     "name": "stderr",
     "output_type": "stream",
     "text": [
      "/home/denton/anaconda2/lib/python2.7/site-packages/ipykernel/ipkernel.py:199: DtypeWarning:\n",
      "\n",
      "Columns (20,37) have mixed types. Specify dtype option on import or set low_memory=False.\n",
      "\n"
     ]
    },
    {
     "name": "stdout",
     "output_type": "stream",
     "text": [
      "405 seconds: completed 1540000 rows\n",
      "410 seconds: completed 1560000 rows\n",
      "415 seconds: completed 1580000 rows\n"
     ]
    },
    {
     "name": "stderr",
     "output_type": "stream",
     "text": [
      "/home/denton/anaconda2/lib/python2.7/site-packages/ipykernel/ipkernel.py:199: DtypeWarning:\n",
      "\n",
      "Columns (7) have mixed types. Specify dtype option on import or set low_memory=False.\n",
      "\n"
     ]
    },
    {
     "name": "stdout",
     "output_type": "stream",
     "text": [
      "420 seconds: completed 1600000 rows\n",
      "423 seconds: completed 1620000 rows\n"
     ]
    }
   ],
   "source": [
    "# start = dt.datetime.now()\n",
    "# chunksize = 20000\n",
    "# j = 0\n",
    "# index_start = 1\n",
    "\n",
    "# for df in pd.read_csv('/home/denton/Downloads/2013_311_Service_Requests.csv', chunksize=chunksize, iterator=True, encoding='utf-8'):\n",
    "    \n",
    "#     df = df.rename(columns={c: c.replace(' ', '') for c in df.columns}) # Remove spaces from columns\n",
    "\n",
    "#     df['CreatedDate'] = pd.to_datetime(df['CreatedDate']) # Convert to datetimes\n",
    "#     df['ClosedDate'] = pd.to_datetime(df['ClosedDate'])\n",
    "\n",
    "#     df.index += index_start\n",
    "\n",
    "#     # Remove the un-interesting columns\n",
    "#     columns = ['Agency', 'CreatedDate', 'ClosedDate', 'ComplaintType', 'Descriptor',\n",
    "#                'CreatedDate', 'ClosedDate', 'TimeToCompletion',\n",
    "#                'City']\n",
    "\n",
    "#     for c in df.columns:\n",
    "#         if c not in columns:\n",
    "#             df = df.drop(c, axis=1)    \n",
    "\n",
    "    \n",
    "#     j+=1\n",
    "#     print '{} seconds: completed {} rows'.format((dt.datetime.now() - start).seconds, j*chunksize)\n",
    "\n",
    "#     df.to_sql('data', disk_engine, if_exists='append')\n",
    "#     index_start = df.index[-1] + 1"
   ]
  },
  {
   "cell_type": "markdown",
   "metadata": {},
   "source": [
    "###### Preview the table"
   ]
  },
  {
   "cell_type": "code",
   "execution_count": 7,
   "metadata": {
    "collapsed": false
   },
   "outputs": [
    {
     "data": {
      "text/html": [
       "<div>\n",
       "<table border=\"1\" class=\"dataframe\">\n",
       "  <thead>\n",
       "    <tr style=\"text-align: right;\">\n",
       "      <th></th>\n",
       "      <th>index</th>\n",
       "      <th>CreatedDate</th>\n",
       "      <th>ClosedDate</th>\n",
       "      <th>Agency</th>\n",
       "      <th>ComplaintType</th>\n",
       "      <th>Descriptor</th>\n",
       "      <th>City</th>\n",
       "    </tr>\n",
       "  </thead>\n",
       "  <tbody>\n",
       "    <tr>\n",
       "      <th>0</th>\n",
       "      <td>1</td>\n",
       "      <td>2013-06-11 16:59:00.000000</td>\n",
       "      <td>2013-06-13 12:00:00.000000</td>\n",
       "      <td>DSNY</td>\n",
       "      <td>Dirty Conditions</td>\n",
       "      <td>E8 Canine Violation</td>\n",
       "      <td>South Richmond Hill</td>\n",
       "    </tr>\n",
       "    <tr>\n",
       "      <th>1</th>\n",
       "      <td>2</td>\n",
       "      <td>2013-06-11 21:35:00.000000</td>\n",
       "      <td>2013-06-18 12:00:00.000000</td>\n",
       "      <td>DSNY</td>\n",
       "      <td>Dirty Conditions</td>\n",
       "      <td>E5 Loose Rubbish</td>\n",
       "      <td>BROOKLYN</td>\n",
       "    </tr>\n",
       "    <tr>\n",
       "      <th>2</th>\n",
       "      <td>3</td>\n",
       "      <td>2013-06-11 09:12:44.000000</td>\n",
       "      <td>2013-06-11 09:13:00.000000</td>\n",
       "      <td>HRA</td>\n",
       "      <td>Benefit Card Replacement</td>\n",
       "      <td>Food Stamp</td>\n",
       "      <td>None</td>\n",
       "    </tr>\n",
       "  </tbody>\n",
       "</table>\n",
       "</div>"
      ],
      "text/plain": [
       "   index                 CreatedDate                  ClosedDate Agency  \\\n",
       "0      1  2013-06-11 16:59:00.000000  2013-06-13 12:00:00.000000   DSNY   \n",
       "1      2  2013-06-11 21:35:00.000000  2013-06-18 12:00:00.000000   DSNY   \n",
       "2      3  2013-06-11 09:12:44.000000  2013-06-11 09:13:00.000000    HRA   \n",
       "\n",
       "              ComplaintType           Descriptor                 City  \n",
       "0          Dirty Conditions  E8 Canine Violation  South Richmond Hill  \n",
       "1          Dirty Conditions     E5 Loose Rubbish             BROOKLYN  \n",
       "2  Benefit Card Replacement           Food Stamp                 None  "
      ]
     },
     "execution_count": 7,
     "metadata": {},
     "output_type": "execute_result"
    }
   ],
   "source": [
    "df = pd.read_sql_query('SELECT * FROM data LIMIT 3', disk_engine)\n",
    "df.head()"
   ]
  },
  {
   "cell_type": "markdown",
   "metadata": {},
   "source": [
    "###### Select just a couple of columns"
   ]
  },
  {
   "cell_type": "code",
   "execution_count": 8,
   "metadata": {
    "collapsed": false
   },
   "outputs": [
    {
     "data": {
      "text/html": [
       "<div>\n",
       "<table border=\"1\" class=\"dataframe\">\n",
       "  <thead>\n",
       "    <tr style=\"text-align: right;\">\n",
       "      <th></th>\n",
       "      <th>Agency</th>\n",
       "      <th>Descriptor</th>\n",
       "    </tr>\n",
       "  </thead>\n",
       "  <tbody>\n",
       "    <tr>\n",
       "      <th>0</th>\n",
       "      <td>DSNY</td>\n",
       "      <td>E8 Canine Violation</td>\n",
       "    </tr>\n",
       "    <tr>\n",
       "      <th>1</th>\n",
       "      <td>DSNY</td>\n",
       "      <td>E5 Loose Rubbish</td>\n",
       "    </tr>\n",
       "    <tr>\n",
       "      <th>2</th>\n",
       "      <td>HRA</td>\n",
       "      <td>Food Stamp</td>\n",
       "    </tr>\n",
       "  </tbody>\n",
       "</table>\n",
       "</div>"
      ],
      "text/plain": [
       "  Agency           Descriptor\n",
       "0   DSNY  E8 Canine Violation\n",
       "1   DSNY     E5 Loose Rubbish\n",
       "2    HRA           Food Stamp"
      ]
     },
     "execution_count": 8,
     "metadata": {},
     "output_type": "execute_result"
    }
   ],
   "source": [
    "df = pd.read_sql_query('SELECT Agency, Descriptor FROM data LIMIT 3', disk_engine)\n",
    "df.head()"
   ]
  },
  {
   "cell_type": "markdown",
   "metadata": {},
   "source": [
    "###### `LIMIT` the number of rows that are retrieved"
   ]
  },
  {
   "cell_type": "code",
   "execution_count": 9,
   "metadata": {
    "collapsed": false
   },
   "outputs": [
    {
     "data": {
      "text/html": [
       "<div>\n",
       "<table border=\"1\" class=\"dataframe\">\n",
       "  <thead>\n",
       "    <tr style=\"text-align: right;\">\n",
       "      <th></th>\n",
       "      <th>ComplaintType</th>\n",
       "      <th>Descriptor</th>\n",
       "      <th>Agency</th>\n",
       "    </tr>\n",
       "  </thead>\n",
       "  <tbody>\n",
       "    <tr>\n",
       "      <th>0</th>\n",
       "      <td>Dirty Conditions</td>\n",
       "      <td>E8 Canine Violation</td>\n",
       "      <td>DSNY</td>\n",
       "    </tr>\n",
       "    <tr>\n",
       "      <th>1</th>\n",
       "      <td>Dirty Conditions</td>\n",
       "      <td>E5 Loose Rubbish</td>\n",
       "      <td>DSNY</td>\n",
       "    </tr>\n",
       "    <tr>\n",
       "      <th>2</th>\n",
       "      <td>Benefit Card Replacement</td>\n",
       "      <td>Food Stamp</td>\n",
       "      <td>HRA</td>\n",
       "    </tr>\n",
       "    <tr>\n",
       "      <th>3</th>\n",
       "      <td>Missed Collection (All Materials)</td>\n",
       "      <td>1 Missed Collection</td>\n",
       "      <td>DSNY</td>\n",
       "    </tr>\n",
       "    <tr>\n",
       "      <th>4</th>\n",
       "      <td>Sanitation Condition</td>\n",
       "      <td>15 Street Cond/Dump-Out/Drop-Off</td>\n",
       "      <td>DSNY</td>\n",
       "    </tr>\n",
       "    <tr>\n",
       "      <th>5</th>\n",
       "      <td>Sanitation Condition</td>\n",
       "      <td>12 Dead Animals</td>\n",
       "      <td>DSNY</td>\n",
       "    </tr>\n",
       "    <tr>\n",
       "      <th>6</th>\n",
       "      <td>Sanitation Condition</td>\n",
       "      <td>12 Dead Animals</td>\n",
       "      <td>DSNY</td>\n",
       "    </tr>\n",
       "    <tr>\n",
       "      <th>7</th>\n",
       "      <td>Sanitation Condition</td>\n",
       "      <td>15 Street Cond/Dump-Out/Drop-Off</td>\n",
       "      <td>DSNY</td>\n",
       "    </tr>\n",
       "    <tr>\n",
       "      <th>8</th>\n",
       "      <td>Root/Sewer/Sidewalk Condition</td>\n",
       "      <td>Trees and Sidewalks Program</td>\n",
       "      <td>DPR</td>\n",
       "    </tr>\n",
       "    <tr>\n",
       "      <th>9</th>\n",
       "      <td>Dirty Conditions</td>\n",
       "      <td>E12 Illegal Dumping Surveillance</td>\n",
       "      <td>DSNY</td>\n",
       "    </tr>\n",
       "  </tbody>\n",
       "</table>\n",
       "</div>"
      ],
      "text/plain": [
       "                       ComplaintType                        Descriptor Agency\n",
       "0                   Dirty Conditions               E8 Canine Violation   DSNY\n",
       "1                   Dirty Conditions                  E5 Loose Rubbish   DSNY\n",
       "2           Benefit Card Replacement                        Food Stamp    HRA\n",
       "3  Missed Collection (All Materials)               1 Missed Collection   DSNY\n",
       "4               Sanitation Condition  15 Street Cond/Dump-Out/Drop-Off   DSNY\n",
       "5               Sanitation Condition                   12 Dead Animals   DSNY\n",
       "6               Sanitation Condition                   12 Dead Animals   DSNY\n",
       "7               Sanitation Condition  15 Street Cond/Dump-Out/Drop-Off   DSNY\n",
       "8      Root/Sewer/Sidewalk Condition       Trees and Sidewalks Program    DPR\n",
       "9                   Dirty Conditions  E12 Illegal Dumping Surveillance   DSNY"
      ]
     },
     "execution_count": 9,
     "metadata": {},
     "output_type": "execute_result"
    }
   ],
   "source": [
    "df = pd.read_sql_query('SELECT ComplaintType, Descriptor, Agency '\n",
    "                       'FROM data '\n",
    "                       'LIMIT 10', disk_engine)\n",
    "df"
   ]
  },
  {
   "cell_type": "markdown",
   "metadata": {},
   "source": [
    "###### Filter rows with `WHERE`"
   ]
  },
  {
   "cell_type": "code",
   "execution_count": 10,
   "metadata": {
    "collapsed": false
   },
   "outputs": [
    {
     "data": {
      "text/html": [
       "<div>\n",
       "<table border=\"1\" class=\"dataframe\">\n",
       "  <thead>\n",
       "    <tr style=\"text-align: right;\">\n",
       "      <th></th>\n",
       "      <th>ComplaintType</th>\n",
       "      <th>Descriptor</th>\n",
       "      <th>Agency</th>\n",
       "    </tr>\n",
       "  </thead>\n",
       "  <tbody>\n",
       "    <tr>\n",
       "      <th>0</th>\n",
       "      <td>Illegal Parking</td>\n",
       "      <td>Blocked Sidewalk</td>\n",
       "      <td>NYPD</td>\n",
       "    </tr>\n",
       "    <tr>\n",
       "      <th>1</th>\n",
       "      <td>Noise - Street/Sidewalk</td>\n",
       "      <td>Loud Music/Party</td>\n",
       "      <td>NYPD</td>\n",
       "    </tr>\n",
       "    <tr>\n",
       "      <th>2</th>\n",
       "      <td>Noise - Street/Sidewalk</td>\n",
       "      <td>Loud Talking</td>\n",
       "      <td>NYPD</td>\n",
       "    </tr>\n",
       "    <tr>\n",
       "      <th>3</th>\n",
       "      <td>Noise - Commercial</td>\n",
       "      <td>Loud Music/Party</td>\n",
       "      <td>NYPD</td>\n",
       "    </tr>\n",
       "    <tr>\n",
       "      <th>4</th>\n",
       "      <td>Noise - Street/Sidewalk</td>\n",
       "      <td>Loud Talking</td>\n",
       "      <td>NYPD</td>\n",
       "    </tr>\n",
       "  </tbody>\n",
       "</table>\n",
       "</div>"
      ],
      "text/plain": [
       "             ComplaintType        Descriptor Agency\n",
       "0          Illegal Parking  Blocked Sidewalk   NYPD\n",
       "1  Noise - Street/Sidewalk  Loud Music/Party   NYPD\n",
       "2  Noise - Street/Sidewalk      Loud Talking   NYPD\n",
       "3       Noise - Commercial  Loud Music/Party   NYPD\n",
       "4  Noise - Street/Sidewalk      Loud Talking   NYPD"
      ]
     },
     "execution_count": 10,
     "metadata": {},
     "output_type": "execute_result"
    }
   ],
   "source": [
    "df = pd.read_sql_query('SELECT ComplaintType, Descriptor, Agency '\n",
    "                       'FROM data '\n",
    "                       'WHERE Agency = \"NYPD\" '\n",
    "                       'LIMIT 10', disk_engine)\n",
    "df.head()"
   ]
  },
  {
   "cell_type": "markdown",
   "metadata": {},
   "source": [
    "###### Filter multiple values in a column with `WHERE` and `IN`"
   ]
  },
  {
   "cell_type": "code",
   "execution_count": 11,
   "metadata": {
    "collapsed": false
   },
   "outputs": [
    {
     "data": {
      "text/html": [
       "<div>\n",
       "<table border=\"1\" class=\"dataframe\">\n",
       "  <thead>\n",
       "    <tr style=\"text-align: right;\">\n",
       "      <th></th>\n",
       "      <th>ComplaintType</th>\n",
       "      <th>Descriptor</th>\n",
       "      <th>Agency</th>\n",
       "    </tr>\n",
       "  </thead>\n",
       "  <tbody>\n",
       "    <tr>\n",
       "      <th>0</th>\n",
       "      <td>Plumbing</td>\n",
       "      <td>Plumbing-Defective/Leaking/Not Maintained</td>\n",
       "      <td>DOB</td>\n",
       "    </tr>\n",
       "    <tr>\n",
       "      <th>1</th>\n",
       "      <td>Plumbing</td>\n",
       "      <td>Plumbing-Defective/Leaking/Not Maintained</td>\n",
       "      <td>DOB</td>\n",
       "    </tr>\n",
       "    <tr>\n",
       "      <th>2</th>\n",
       "      <td>Plumbing</td>\n",
       "      <td>Plumbing-Defective/Leaking/Not Maintained</td>\n",
       "      <td>DOB</td>\n",
       "    </tr>\n",
       "    <tr>\n",
       "      <th>3</th>\n",
       "      <td>Elevator</td>\n",
       "      <td>Elevator - Defective/Not Working</td>\n",
       "      <td>DOB</td>\n",
       "    </tr>\n",
       "    <tr>\n",
       "      <th>4</th>\n",
       "      <td>Investigations and Discipline (IAD)</td>\n",
       "      <td>Plumbing Work - Unlicensed/Illegal/Improper Wo...</td>\n",
       "      <td>DOB</td>\n",
       "    </tr>\n",
       "  </tbody>\n",
       "</table>\n",
       "</div>"
      ],
      "text/plain": [
       "                         ComplaintType  \\\n",
       "0                             Plumbing   \n",
       "1                             Plumbing   \n",
       "2                             Plumbing   \n",
       "3                             Elevator   \n",
       "4  Investigations and Discipline (IAD)   \n",
       "\n",
       "                                          Descriptor Agency  \n",
       "0          Plumbing-Defective/Leaking/Not Maintained    DOB  \n",
       "1          Plumbing-Defective/Leaking/Not Maintained    DOB  \n",
       "2          Plumbing-Defective/Leaking/Not Maintained    DOB  \n",
       "3                   Elevator - Defective/Not Working    DOB  \n",
       "4  Plumbing Work - Unlicensed/Illegal/Improper Wo...    DOB  "
      ]
     },
     "execution_count": 11,
     "metadata": {},
     "output_type": "execute_result"
    }
   ],
   "source": [
    "df = pd.read_sql_query('SELECT ComplaintType, Descriptor, Agency '\n",
    "                       'FROM data '\n",
    "                       'WHERE Agency IN (\"NYPD\", \"DOB\")'\n",
    "                       'LIMIT 10', disk_engine)\n",
    "df.head()"
   ]
  },
  {
   "cell_type": "markdown",
   "metadata": {},
   "source": [
    "###### Find the unique values in a column with `DISTINCT`"
   ]
  },
  {
   "cell_type": "code",
   "execution_count": 12,
   "metadata": {
    "collapsed": false
   },
   "outputs": [
    {
     "data": {
      "text/html": [
       "<div>\n",
       "<table border=\"1\" class=\"dataframe\">\n",
       "  <thead>\n",
       "    <tr style=\"text-align: right;\">\n",
       "      <th></th>\n",
       "      <th>City</th>\n",
       "    </tr>\n",
       "  </thead>\n",
       "  <tbody>\n",
       "    <tr>\n",
       "      <th>0</th>\n",
       "      <td>South Richmond Hill</td>\n",
       "    </tr>\n",
       "    <tr>\n",
       "      <th>1</th>\n",
       "      <td>BROOKLYN</td>\n",
       "    </tr>\n",
       "    <tr>\n",
       "      <th>2</th>\n",
       "      <td>None</td>\n",
       "    </tr>\n",
       "    <tr>\n",
       "      <th>3</th>\n",
       "      <td>STATEN ISLAND</td>\n",
       "    </tr>\n",
       "    <tr>\n",
       "      <th>4</th>\n",
       "      <td>NEW YORK</td>\n",
       "    </tr>\n",
       "  </tbody>\n",
       "</table>\n",
       "</div>"
      ],
      "text/plain": [
       "                  City\n",
       "0  South Richmond Hill\n",
       "1             BROOKLYN\n",
       "2                 None\n",
       "3        STATEN ISLAND\n",
       "4             NEW YORK"
      ]
     },
     "execution_count": 12,
     "metadata": {},
     "output_type": "execute_result"
    }
   ],
   "source": [
    "df = pd.read_sql_query('SELECT DISTINCT City FROM data', disk_engine)\n",
    "df.head()"
   ]
  },
  {
   "cell_type": "markdown",
   "metadata": {},
   "source": [
    "###### Query value counts with `COUNT(*)` and `GROUP BY`"
   ]
  },
  {
   "cell_type": "code",
   "execution_count": 13,
   "metadata": {
    "collapsed": false
   },
   "outputs": [
    {
     "data": {
      "text/html": [
       "<div>\n",
       "<table border=\"1\" class=\"dataframe\">\n",
       "  <thead>\n",
       "    <tr style=\"text-align: right;\">\n",
       "      <th></th>\n",
       "      <th>Agency</th>\n",
       "      <th>num_complaints</th>\n",
       "    </tr>\n",
       "  </thead>\n",
       "  <tbody>\n",
       "    <tr>\n",
       "      <th>0</th>\n",
       "      <td>3-1-1</td>\n",
       "      <td>996</td>\n",
       "    </tr>\n",
       "    <tr>\n",
       "      <th>1</th>\n",
       "      <td>ACS</td>\n",
       "      <td>1</td>\n",
       "    </tr>\n",
       "    <tr>\n",
       "      <th>2</th>\n",
       "      <td>CAU</td>\n",
       "      <td>2</td>\n",
       "    </tr>\n",
       "    <tr>\n",
       "      <th>3</th>\n",
       "      <td>CCRB</td>\n",
       "      <td>4</td>\n",
       "    </tr>\n",
       "    <tr>\n",
       "      <th>4</th>\n",
       "      <td>CHALL</td>\n",
       "      <td>1042</td>\n",
       "    </tr>\n",
       "  </tbody>\n",
       "</table>\n",
       "</div>"
      ],
      "text/plain": [
       "  Agency  num_complaints\n",
       "0  3-1-1             996\n",
       "1    ACS               1\n",
       "2    CAU               2\n",
       "3   CCRB               4\n",
       "4  CHALL            1042"
      ]
     },
     "execution_count": 13,
     "metadata": {},
     "output_type": "execute_result"
    }
   ],
   "source": [
    "df = pd.read_sql_query('SELECT Agency, COUNT(*) as `num_complaints`'\n",
    "                       'FROM data '\n",
    "                       'GROUP BY Agency ', disk_engine)\n",
    "\n",
    "df.head()"
   ]
  },
  {
   "cell_type": "markdown",
   "metadata": {},
   "source": [
    "###### Order the results with `ORDER` and `-`\n",
    "Housing and Development Dept receives the most complaints"
   ]
  },
  {
   "cell_type": "code",
   "execution_count": 16,
   "metadata": {
    "collapsed": true
   },
   "outputs": [],
   "source": [
    "tls.set_credentials_file(username='ddeloss', api_key='0uwykwidtt')"
   ]
  },
  {
   "cell_type": "code",
   "execution_count": 17,
   "metadata": {
    "collapsed": false
   },
   "outputs": [
    {
     "data": {
      "text/html": [
       "<iframe id=\"igraph\" scrolling=\"no\" style=\"border:none;\" seamless=\"seamless\" src=\"https://plot.ly/~ddeloss/1.embed\" height=\"525px\" width=\"100%\"></iframe>"
      ],
      "text/plain": [
       "<plotly.tools.PlotlyDisplay object>"
      ]
     },
     "execution_count": 17,
     "metadata": {},
     "output_type": "execute_result"
    }
   ],
   "source": [
    "df = pd.read_sql_query('SELECT Agency, COUNT(*) as `num_complaints`'\n",
    "                       'FROM data '\n",
    "                       'GROUP BY Agency '\n",
    "                       'ORDER BY -num_complaints', disk_engine)\n",
    "\n",
    "py.iplot([Bar(x=df.Agency, y=df.num_complaints)], filename='311/most common complaints by agency')"
   ]
  },
  {
   "cell_type": "markdown",
   "metadata": {},
   "source": [
    "###### Heat / Hot Water is the most common complaint"
   ]
  },
  {
   "cell_type": "code",
   "execution_count": 18,
   "metadata": {
    "collapsed": false
   },
   "outputs": [
    {
     "data": {
      "text/html": [
       "<iframe id=\"igraph\" scrolling=\"no\" style=\"border:none;\" seamless=\"seamless\" src=\"https://plot.ly/~ddeloss/3.embed\" height=\"525px\" width=\"100%\"></iframe>"
      ],
      "text/plain": [
       "<plotly.tools.PlotlyDisplay object>"
      ]
     },
     "execution_count": 18,
     "metadata": {},
     "output_type": "execute_result"
    }
   ],
   "source": [
    "df = pd.read_sql_query('SELECT ComplaintType, COUNT(*) as `num_complaints`, Agency '\n",
    "                       'FROM data '\n",
    "                       'GROUP BY `ComplaintType` '\n",
    "                       'ORDER BY -num_complaints', disk_engine)\n",
    "\n",
    "\n",
    "most_common_complaints = df # used later\n",
    "py.iplot({\n",
    "    'data': [Bar(x=df['ComplaintType'], y=df.num_complaints)],\n",
    "    'layout': { \n",
    "        'margin': {'b': 150}, # Make the bottom margin a bit bigger to handle the long text\n",
    "        'xaxis': {'tickangle': 40}} # Angle the labels a bit\n",
    "    }, filename='311/most common complaints by complaint type')"
   ]
  },
  {
   "cell_type": "markdown",
   "metadata": {},
   "source": [
    "*This graph is interactive. Click-and-drag horizontally to zoom, shift-click to pan, double click to autoscale*"
   ]
  },
  {
   "cell_type": "markdown",
   "metadata": {},
   "source": [
    "##### What's the most common complaint in each city?"
   ]
  },
  {
   "cell_type": "markdown",
   "metadata": {},
   "source": [
    "First, let's see how many cities are recorded in the dataset"
   ]
  },
  {
   "cell_type": "code",
   "execution_count": 19,
   "metadata": {
    "collapsed": false
   },
   "outputs": [
    {
     "data": {
      "text/plain": [
       "581"
      ]
     },
     "execution_count": 19,
     "metadata": {},
     "output_type": "execute_result"
    }
   ],
   "source": [
    "len(pd.read_sql_query('SELECT DISTINCT City FROM data', disk_engine))"
   ]
  },
  {
   "cell_type": "markdown",
   "metadata": {},
   "source": [
    "Yikes - let's just plot the 10 most complained about cities"
   ]
  },
  {
   "cell_type": "code",
   "execution_count": 20,
   "metadata": {
    "collapsed": false
   },
   "outputs": [
    {
     "data": {
      "text/html": [
       "<div>\n",
       "<table border=\"1\" class=\"dataframe\">\n",
       "  <thead>\n",
       "    <tr style=\"text-align: right;\">\n",
       "      <th></th>\n",
       "      <th>City</th>\n",
       "      <th>num_complaints</th>\n",
       "    </tr>\n",
       "  </thead>\n",
       "  <tbody>\n",
       "    <tr>\n",
       "      <th>0</th>\n",
       "      <td>BROOKLYN</td>\n",
       "      <td>462724</td>\n",
       "    </tr>\n",
       "    <tr>\n",
       "      <th>1</th>\n",
       "      <td>NEW YORK</td>\n",
       "      <td>305377</td>\n",
       "    </tr>\n",
       "    <tr>\n",
       "      <th>2</th>\n",
       "      <td>BRONX</td>\n",
       "      <td>279323</td>\n",
       "    </tr>\n",
       "    <tr>\n",
       "      <th>3</th>\n",
       "      <td>None</td>\n",
       "      <td>169750</td>\n",
       "    </tr>\n",
       "    <tr>\n",
       "      <th>4</th>\n",
       "      <td>STATEN ISLAND</td>\n",
       "      <td>73555</td>\n",
       "    </tr>\n",
       "    <tr>\n",
       "      <th>5</th>\n",
       "      <td>Jamaica</td>\n",
       "      <td>25139</td>\n",
       "    </tr>\n",
       "    <tr>\n",
       "      <th>6</th>\n",
       "      <td>Flushing</td>\n",
       "      <td>15919</td>\n",
       "    </tr>\n",
       "    <tr>\n",
       "      <th>7</th>\n",
       "      <td>Astoria</td>\n",
       "      <td>13023</td>\n",
       "    </tr>\n",
       "    <tr>\n",
       "      <th>8</th>\n",
       "      <td>FLUSHING</td>\n",
       "      <td>11047</td>\n",
       "    </tr>\n",
       "    <tr>\n",
       "      <th>9</th>\n",
       "      <td>JAMAICA</td>\n",
       "      <td>10829</td>\n",
       "    </tr>\n",
       "  </tbody>\n",
       "</table>\n",
       "</div>"
      ],
      "text/plain": [
       "            City  num_complaints\n",
       "0       BROOKLYN          462724\n",
       "1       NEW YORK          305377\n",
       "2          BRONX          279323\n",
       "3           None          169750\n",
       "4  STATEN ISLAND           73555\n",
       "5        Jamaica           25139\n",
       "6       Flushing           15919\n",
       "7        Astoria           13023\n",
       "8       FLUSHING           11047\n",
       "9        JAMAICA           10829"
      ]
     },
     "execution_count": 20,
     "metadata": {},
     "output_type": "execute_result"
    }
   ],
   "source": [
    "df = pd.read_sql_query('SELECT City, COUNT(*) as `num_complaints` '\n",
    "                                'FROM data '\n",
    "                                'GROUP BY `City` '\n",
    "                       'ORDER BY -num_complaints '\n",
    "                       'LIMIT 10 ', disk_engine)\n",
    "df"
   ]
  },
  {
   "cell_type": "markdown",
   "metadata": {
    "collapsed": true
   },
   "source": [
    "Flushing and FLUSHING, Jamaica and JAMAICA... the complaints are case sensitive."
   ]
  },
  {
   "cell_type": "markdown",
   "metadata": {},
   "source": [
    "###### Perform case insensitive queries with `GROUP BY` with `COLLATE NOCASE`"
   ]
  },
  {
   "cell_type": "code",
   "execution_count": 21,
   "metadata": {
    "collapsed": false
   },
   "outputs": [
    {
     "data": {
      "text/html": [
       "<div>\n",
       "<table border=\"1\" class=\"dataframe\">\n",
       "  <thead>\n",
       "    <tr style=\"text-align: right;\">\n",
       "      <th></th>\n",
       "      <th>City</th>\n",
       "      <th>num_complaints</th>\n",
       "    </tr>\n",
       "  </thead>\n",
       "  <tbody>\n",
       "    <tr>\n",
       "      <th>0</th>\n",
       "      <td>BROOKLYN</td>\n",
       "      <td>462724</td>\n",
       "    </tr>\n",
       "    <tr>\n",
       "      <th>1</th>\n",
       "      <td>NEW YORK</td>\n",
       "      <td>305377</td>\n",
       "    </tr>\n",
       "    <tr>\n",
       "      <th>2</th>\n",
       "      <td>BRONX</td>\n",
       "      <td>279323</td>\n",
       "    </tr>\n",
       "    <tr>\n",
       "      <th>3</th>\n",
       "      <td>None</td>\n",
       "      <td>169750</td>\n",
       "    </tr>\n",
       "    <tr>\n",
       "      <th>4</th>\n",
       "      <td>STATEN ISLAND</td>\n",
       "      <td>73555</td>\n",
       "    </tr>\n",
       "    <tr>\n",
       "      <th>5</th>\n",
       "      <td>JAMAICA</td>\n",
       "      <td>35968</td>\n",
       "    </tr>\n",
       "    <tr>\n",
       "      <th>6</th>\n",
       "      <td>FLUSHING</td>\n",
       "      <td>26966</td>\n",
       "    </tr>\n",
       "    <tr>\n",
       "      <th>7</th>\n",
       "      <td>ASTORIA</td>\n",
       "      <td>22003</td>\n",
       "    </tr>\n",
       "    <tr>\n",
       "      <th>8</th>\n",
       "      <td>RIDGEWOOD</td>\n",
       "      <td>15917</td>\n",
       "    </tr>\n",
       "    <tr>\n",
       "      <th>9</th>\n",
       "      <td>FAR ROCKAWAY</td>\n",
       "      <td>11030</td>\n",
       "    </tr>\n",
       "    <tr>\n",
       "      <th>10</th>\n",
       "      <td>CORONA</td>\n",
       "      <td>10709</td>\n",
       "    </tr>\n",
       "  </tbody>\n",
       "</table>\n",
       "</div>"
      ],
      "text/plain": [
       "             City  num_complaints\n",
       "0        BROOKLYN          462724\n",
       "1        NEW YORK          305377\n",
       "2           BRONX          279323\n",
       "3            None          169750\n",
       "4   STATEN ISLAND           73555\n",
       "5         JAMAICA           35968\n",
       "6        FLUSHING           26966\n",
       "7         ASTORIA           22003\n",
       "8       RIDGEWOOD           15917\n",
       "9    FAR ROCKAWAY           11030\n",
       "10         CORONA           10709"
      ]
     },
     "execution_count": 21,
     "metadata": {},
     "output_type": "execute_result"
    }
   ],
   "source": [
    "df = pd.read_sql_query('SELECT City, COUNT(*) as `num_complaints` '\n",
    "                        'FROM data '\n",
    "                        'GROUP BY `City` '\n",
    "                       'COLLATE NOCASE '\n",
    "                       'ORDER BY -num_complaints '\n",
    "                       'LIMIT 11 ', disk_engine)\n",
    "df"
   ]
  },
  {
   "cell_type": "code",
   "execution_count": 22,
   "metadata": {
    "collapsed": false
   },
   "outputs": [],
   "source": [
    "cities = list(df.City)\n",
    "cities.remove(None)"
   ]
  },
  {
   "cell_type": "code",
   "execution_count": 23,
   "metadata": {
    "collapsed": false
   },
   "outputs": [],
   "source": [
    "traces = [] # the series in the graph - one trace for each city\n",
    "\n",
    "for city in cities:\n",
    "    df = pd.read_sql_query('SELECT ComplaintType, COUNT(*) as `num_complaints` '\n",
    "                           'FROM data '\n",
    "                           'WHERE City = \"{}\" COLLATE NOCASE '\n",
    "                           'GROUP BY `ComplaintType` '\n",
    "                           'ORDER BY -num_complaints'.format(city), disk_engine)\n",
    "\n",
    "    traces.append(Bar(x=df['ComplaintType'], y=df.num_complaints, name=city.capitalize()))"
   ]
  },
  {
   "cell_type": "code",
   "execution_count": 24,
   "metadata": {
    "collapsed": false
   },
   "outputs": [
    {
     "data": {
      "text/html": [
       "<iframe id=\"igraph\" scrolling=\"no\" style=\"border:none;\" seamless=\"seamless\" src=\"https://plot.ly/~ddeloss/5.embed\" height=\"525px\" width=\"100%\"></iframe>"
      ],
      "text/plain": [
       "<plotly.tools.PlotlyDisplay object>"
      ]
     },
     "execution_count": 24,
     "metadata": {},
     "output_type": "execute_result"
    }
   ],
   "source": [
    "py.iplot({'data': traces, 'layout': Layout(barmode='stack', xaxis={'tickangle': 40}, margin={'b': 150})}, filename='311/complaints by city stacked')"
   ]
  },
  {
   "cell_type": "markdown",
   "metadata": {},
   "source": [
    "*You can also `click` on the legend entries to hide/show the traces. Click-and-drag to zoom in and shift-drag to pan.*"
   ]
  },
  {
   "cell_type": "markdown",
   "metadata": {},
   "source": [
    "Now let's normalize these counts. This is super easy now that this data has been reduced into a dataframe."
   ]
  },
  {
   "cell_type": "code",
   "execution_count": 25,
   "metadata": {
    "collapsed": true
   },
   "outputs": [],
   "source": [
    "for trace in traces:\n",
    "    trace['y'] = 100.*trace['y']/sum(trace['y'])"
   ]
  },
  {
   "cell_type": "code",
   "execution_count": 26,
   "metadata": {
    "collapsed": false
   },
   "outputs": [
    {
     "data": {
      "text/html": [
       "<iframe id=\"igraph\" scrolling=\"no\" style=\"border:none;\" seamless=\"seamless\" src=\"https://plot.ly/~ddeloss/7.embed\" height=\"525px\" width=\"100%\"></iframe>"
      ],
      "text/plain": [
       "<plotly.tools.PlotlyDisplay object>"
      ]
     },
     "execution_count": 26,
     "metadata": {},
     "output_type": "execute_result"
    }
   ],
   "source": [
    "py.iplot({'data': traces, \n",
    "          'layout': Layout(\n",
    "                barmode='group',\n",
    "                xaxis={'tickangle': 40, 'autorange': False, 'range': [-0.5, 16]},\n",
    "                yaxis={'title': 'Percent of Complaints by City'},\n",
    "                margin={'b': 150},\n",
    "                title='Relative Number of 311 Complaints by City')\n",
    "         }, filename='311/relative complaints by city', validate=False)"
   ]
  },
  {
   "cell_type": "markdown",
   "metadata": {},
   "source": [
    "- New York is loud\n",
    "- Staten Island is moldy, wet, and vacant\n",
    "- Flushing's muni meters are broken \n",
    "- Trash collection is great in the Bronx\n",
    "- Woodside doesn't like its graffiti\n",
    "\n",
    "Click and drag to pan across the graph and see more of the complaints. "
   ]
  },
  {
   "cell_type": "markdown",
   "metadata": {},
   "source": [
    "### Part 2: SQLite time series with Pandas"
   ]
  },
  {
   "cell_type": "markdown",
   "metadata": {},
   "source": [
    "######  Filter SQLite rows with timestamp strings: `YYYY-MM-DD hh:mm:ss`"
   ]
  },
  {
   "cell_type": "code",
   "execution_count": 36,
   "metadata": {
    "collapsed": false
   },
   "outputs": [
    {
     "data": {
      "text/html": [
       "<div>\n",
       "<table border=\"1\" class=\"dataframe\">\n",
       "  <thead>\n",
       "    <tr style=\"text-align: right;\">\n",
       "      <th></th>\n",
       "      <th>ComplaintType</th>\n",
       "      <th>CreatedDate</th>\n",
       "      <th>City</th>\n",
       "    </tr>\n",
       "  </thead>\n",
       "  <tbody>\n",
       "    <tr>\n",
       "      <th>0</th>\n",
       "      <td>Noise - Street/Sidewalk</td>\n",
       "      <td>2013-11-16 23:46:17.000000</td>\n",
       "      <td>NEW YORK</td>\n",
       "    </tr>\n",
       "    <tr>\n",
       "      <th>1</th>\n",
       "      <td>Illegal Parking</td>\n",
       "      <td>2013-11-16 23:45:19.000000</td>\n",
       "      <td>WOODHAVEN</td>\n",
       "    </tr>\n",
       "  </tbody>\n",
       "</table>\n",
       "</div>"
      ],
      "text/plain": [
       "             ComplaintType                 CreatedDate       City\n",
       "0  Noise - Street/Sidewalk  2013-11-16 23:46:17.000000   NEW YORK\n",
       "1          Illegal Parking  2013-11-16 23:45:19.000000  WOODHAVEN"
      ]
     },
     "execution_count": 36,
     "metadata": {},
     "output_type": "execute_result"
    }
   ],
   "source": [
    "df = pd.read_sql_query('SELECT ComplaintType, CreatedDate, City '\n",
    "                       'FROM data '\n",
    "                       'WHERE CreatedDate < \"2013-11-16 23:47:00\" '\n",
    "                       'AND CreatedDate > \"2013-11-16 23:45:00\"', disk_engine)\n",
    "\n",
    "df"
   ]
  },
  {
   "cell_type": "markdown",
   "metadata": {},
   "source": [
    "######  Pull out the hour unit from timestamps with `strftime`\n"
   ]
  },
  {
   "cell_type": "code",
   "execution_count": 37,
   "metadata": {
    "collapsed": false
   },
   "outputs": [
    {
     "data": {
      "text/html": [
       "<div>\n",
       "<table border=\"1\" class=\"dataframe\">\n",
       "  <thead>\n",
       "    <tr style=\"text-align: right;\">\n",
       "      <th></th>\n",
       "      <th>CreatedDate</th>\n",
       "      <th>hour</th>\n",
       "      <th>ComplaintType</th>\n",
       "    </tr>\n",
       "  </thead>\n",
       "  <tbody>\n",
       "    <tr>\n",
       "      <th>0</th>\n",
       "      <td>2013-06-11 16:59:00.000000</td>\n",
       "      <td>16</td>\n",
       "      <td>Dirty Conditions</td>\n",
       "    </tr>\n",
       "    <tr>\n",
       "      <th>1</th>\n",
       "      <td>2013-06-11 21:35:00.000000</td>\n",
       "      <td>21</td>\n",
       "      <td>Dirty Conditions</td>\n",
       "    </tr>\n",
       "    <tr>\n",
       "      <th>2</th>\n",
       "      <td>2013-06-11 09:12:44.000000</td>\n",
       "      <td>09</td>\n",
       "      <td>Benefit Card Replacement</td>\n",
       "    </tr>\n",
       "    <tr>\n",
       "      <th>3</th>\n",
       "      <td>2013-11-14 14:38:00.000000</td>\n",
       "      <td>14</td>\n",
       "      <td>Missed Collection (All Materials)</td>\n",
       "    </tr>\n",
       "    <tr>\n",
       "      <th>4</th>\n",
       "      <td>2013-11-14 13:55:00.000000</td>\n",
       "      <td>13</td>\n",
       "      <td>Sanitation Condition</td>\n",
       "    </tr>\n",
       "  </tbody>\n",
       "</table>\n",
       "</div>"
      ],
      "text/plain": [
       "                  CreatedDate hour                      ComplaintType\n",
       "0  2013-06-11 16:59:00.000000   16                   Dirty Conditions\n",
       "1  2013-06-11 21:35:00.000000   21                   Dirty Conditions\n",
       "2  2013-06-11 09:12:44.000000   09           Benefit Card Replacement\n",
       "3  2013-11-14 14:38:00.000000   14  Missed Collection (All Materials)\n",
       "4  2013-11-14 13:55:00.000000   13               Sanitation Condition"
      ]
     },
     "execution_count": 37,
     "metadata": {},
     "output_type": "execute_result"
    }
   ],
   "source": [
    "df = pd.read_sql_query('SELECT CreatedDate, '\n",
    "                              'strftime(\\'%H\\', CreatedDate) as hour, '\n",
    "                              'ComplaintType '\n",
    "                       'FROM data '\n",
    "                       'LIMIT 5 ', disk_engine)\n",
    "df.head()"
   ]
  },
  {
   "cell_type": "markdown",
   "metadata": {},
   "source": [
    "######  Count the number of complaints (rows) per hour with `strftime`, `GROUP BY`, and `count(*)`"
   ]
  },
  {
   "cell_type": "code",
   "execution_count": 38,
   "metadata": {
    "collapsed": false
   },
   "outputs": [
    {
     "data": {
      "text/html": [
       "<div>\n",
       "<table border=\"1\" class=\"dataframe\">\n",
       "  <thead>\n",
       "    <tr style=\"text-align: right;\">\n",
       "      <th></th>\n",
       "      <th>CreatedDate</th>\n",
       "      <th>hour</th>\n",
       "      <th>Complaints per Hour</th>\n",
       "    </tr>\n",
       "  </thead>\n",
       "  <tbody>\n",
       "    <tr>\n",
       "      <th>0</th>\n",
       "      <td>2013-09-02 00:21:45.000000</td>\n",
       "      <td>00</td>\n",
       "      <td>620808</td>\n",
       "    </tr>\n",
       "    <tr>\n",
       "      <th>1</th>\n",
       "      <td>2013-06-03 01:22:41.000000</td>\n",
       "      <td>01</td>\n",
       "      <td>14581</td>\n",
       "    </tr>\n",
       "    <tr>\n",
       "      <th>2</th>\n",
       "      <td>2013-02-24 02:50:04.000000</td>\n",
       "      <td>02</td>\n",
       "      <td>9947</td>\n",
       "    </tr>\n",
       "    <tr>\n",
       "      <th>3</th>\n",
       "      <td>2013-12-12 03:29:10.000000</td>\n",
       "      <td>03</td>\n",
       "      <td>6504</td>\n",
       "    </tr>\n",
       "    <tr>\n",
       "      <th>4</th>\n",
       "      <td>2013-01-31 04:37:11.000000</td>\n",
       "      <td>04</td>\n",
       "      <td>5501</td>\n",
       "    </tr>\n",
       "  </tbody>\n",
       "</table>\n",
       "</div>"
      ],
      "text/plain": [
       "                  CreatedDate hour  Complaints per Hour\n",
       "0  2013-09-02 00:21:45.000000   00               620808\n",
       "1  2013-06-03 01:22:41.000000   01                14581\n",
       "2  2013-02-24 02:50:04.000000   02                 9947\n",
       "3  2013-12-12 03:29:10.000000   03                 6504\n",
       "4  2013-01-31 04:37:11.000000   04                 5501"
      ]
     },
     "execution_count": 38,
     "metadata": {},
     "output_type": "execute_result"
    }
   ],
   "source": [
    "df = pd.read_sql_query('SELECT CreatedDate, '\n",
    "                               'strftime(\\'%H\\', CreatedDate) as hour,  '\n",
    "                               'count(*) as `Complaints per Hour`'\n",
    "                       'FROM data '\n",
    "                       'GROUP BY hour', disk_engine)\n",
    "\n",
    "df.head()"
   ]
  },
  {
   "cell_type": "code",
   "execution_count": 39,
   "metadata": {
    "collapsed": false
   },
   "outputs": [
    {
     "data": {
      "text/html": [
       "<iframe id=\"igraph\" scrolling=\"no\" style=\"border:none;\" seamless=\"seamless\" src=\"https://plot.ly/~ddeloss/9.embed\" height=\"525px\" width=\"100%\"></iframe>"
      ],
      "text/plain": [
       "<plotly.tools.PlotlyDisplay object>"
      ]
     },
     "execution_count": 39,
     "metadata": {},
     "output_type": "execute_result"
    }
   ],
   "source": [
    "py.iplot({\n",
    "    'data': [Bar(x=df['hour'], y=df['Complaints per Hour'])],\n",
    "    'layout': Layout(xaxis={'title': 'Hour in Day'},\n",
    "                     yaxis={'title': 'Number of Complaints'})}, filename='311/complaints per hour')"
   ]
  },
  {
   "cell_type": "markdown",
   "metadata": {},
   "source": [
    "######  Filter noise complaints by hour"
   ]
  },
  {
   "cell_type": "code",
   "execution_count": 40,
   "metadata": {
    "collapsed": false
   },
   "outputs": [
    {
     "data": {
      "text/html": [
       "<div>\n",
       "<table border=\"1\" class=\"dataframe\">\n",
       "  <thead>\n",
       "    <tr style=\"text-align: right;\">\n",
       "      <th></th>\n",
       "      <th>CreatedDate</th>\n",
       "      <th>hour</th>\n",
       "      <th>Complaints per Hour</th>\n",
       "    </tr>\n",
       "  </thead>\n",
       "  <tbody>\n",
       "    <tr>\n",
       "      <th>0</th>\n",
       "      <td>2013-05-28 00:20:00.000000</td>\n",
       "      <td>00</td>\n",
       "      <td>9446</td>\n",
       "    </tr>\n",
       "    <tr>\n",
       "      <th>1</th>\n",
       "      <td>2013-05-12 01:39:00.000000</td>\n",
       "      <td>01</td>\n",
       "      <td>7645</td>\n",
       "    </tr>\n",
       "  </tbody>\n",
       "</table>\n",
       "</div>"
      ],
      "text/plain": [
       "                  CreatedDate hour  Complaints per Hour\n",
       "0  2013-05-28 00:20:00.000000   00                 9446\n",
       "1  2013-05-12 01:39:00.000000   01                 7645"
      ]
     },
     "metadata": {},
     "output_type": "display_data"
    },
    {
     "data": {
      "text/html": [
       "<iframe id=\"igraph\" scrolling=\"no\" style=\"border:none;\" seamless=\"seamless\" src=\"https://plot.ly/~ddeloss/11.embed\" height=\"525px\" width=\"100%\"></iframe>"
      ],
      "text/plain": [
       "<plotly.tools.PlotlyDisplay object>"
      ]
     },
     "execution_count": 40,
     "metadata": {},
     "output_type": "execute_result"
    }
   ],
   "source": [
    "df = pd.read_sql_query('SELECT CreatedDate, '\n",
    "                               'strftime(\\'%H\\', CreatedDate) as `hour`,  '\n",
    "                               'count(*) as `Complaints per Hour`'\n",
    "                       'FROM data '\n",
    "                       'WHERE ComplaintType IN (\"Noise\", '\n",
    "                                               '\"Noise - Street/Sidewalk\", '\n",
    "                                               '\"Noise - Commercial\", '\n",
    "                                               '\"Noise - Vehicle\", '\n",
    "                                               '\"Noise - Park\", '\n",
    "                                               '\"Noise - House of Worship\", '\n",
    "                                               '\"Noise - Helicopter\", '\n",
    "                                               '\"Collection Truck Noise\") '\n",
    "                       'GROUP BY hour', disk_engine)\n",
    "\n",
    "display(df.head(n=2))\n",
    "\n",
    "py.iplot({\n",
    "    'data': [Bar(x=df['hour'], y=df['Complaints per Hour'])],\n",
    "    'layout': Layout(xaxis={'title': 'Hour in Day'},\n",
    "                     yaxis={'title': 'Number of Complaints'},\n",
    "                     title='Number of Noise Complaints in NYC by Hour in Day'\n",
    "                    )}, filename='311/noise complaints per hour')"
   ]
  },
  {
   "cell_type": "markdown",
   "metadata": {},
   "source": [
    "######  Segregate complaints by hour"
   ]
  },
  {
   "cell_type": "code",
   "execution_count": 41,
   "metadata": {
    "collapsed": false
   },
   "outputs": [],
   "source": [
    "complaint_traces = {} # Each series in the graph will represent a complaint\n",
    "complaint_traces['Other'] = {}\n",
    "\n",
    "for hour in range(1, 24):\n",
    "    hour_str = '0'+str(hour) if hour < 10 else str(hour)\n",
    "    df = pd.read_sql_query('SELECT  CreatedDate, '\n",
    "                                   'ComplaintType ,'\n",
    "                                   'strftime(\\'%H\\', CreatedDate) as `hour`,  '\n",
    "                                   'COUNT(*) as num_complaints '\n",
    "                           'FROM data '\n",
    "                           'WHERE hour = \"{}\" '\n",
    "                           'GROUP BY ComplaintType '\n",
    "                           'ORDER BY -num_complaints'.format(hour_str), disk_engine)\n",
    "    \n",
    "    complaint_traces['Other'][hour] = sum(df.num_complaints)\n",
    "    \n",
    "    # Grab the 7 most common complaints for that hour\n",
    "    for i in range(7):\n",
    "        complaint = df.get_value(i, 'ComplaintType')\n",
    "        count = df.get_value(i, 'num_complaints')\n",
    "        complaint_traces['Other'][hour] -= count\n",
    "        if complaint in complaint_traces:\n",
    "            complaint_traces[complaint][hour] = count\n",
    "        else:\n",
    "            complaint_traces[complaint] = {hour: count}"
   ]
  },
  {
   "cell_type": "code",
   "execution_count": 42,
   "metadata": {
    "collapsed": false
   },
   "outputs": [
    {
     "data": {
      "text/html": [
       "<iframe id=\"igraph\" scrolling=\"no\" style=\"border:none;\" seamless=\"seamless\" src=\"https://plot.ly/~ddeloss/13.embed\" height=\"525px\" width=\"100%\"></iframe>"
      ],
      "text/plain": [
       "<plotly.tools.PlotlyDisplay object>"
      ]
     },
     "execution_count": 42,
     "metadata": {},
     "output_type": "execute_result"
    }
   ],
   "source": [
    "traces = []\n",
    "for complaint in complaint_traces:\n",
    "    traces.append({\n",
    "        'x': range(25),\n",
    "        'y': [complaint_traces[complaint].get(i, None) for i in range(25)],\n",
    "        'name': complaint,\n",
    "        'type': 'bar'\n",
    "    })\n",
    "\n",
    "py.iplot({\n",
    "    'data': traces, \n",
    "    'layout': {\n",
    "        'barmode': 'stack',\n",
    "        'xaxis': {'title': 'Hour in Day'},\n",
    "        'yaxis': {'title': 'Number of Complaints'},\n",
    "        'title': 'The 7 Most Common 311 Complaints by Hour in a Day'\n",
    "    }}, filename='311/most common complaints by hour')"
   ]
  },
  {
   "cell_type": "markdown",
   "metadata": {},
   "source": [
    "##### Aggregated time series"
   ]
  },
  {
   "cell_type": "markdown",
   "metadata": {},
   "source": [
    "First, create a new column with timestamps rounded to the previous 15 minute interval"
   ]
  },
  {
   "cell_type": "code",
   "execution_count": 43,
   "metadata": {
    "collapsed": false
   },
   "outputs": [
    {
     "data": {
      "text/html": [
       "<div>\n",
       "<table border=\"1\" class=\"dataframe\">\n",
       "  <thead>\n",
       "    <tr style=\"text-align: right;\">\n",
       "      <th></th>\n",
       "      <th>CreatedDate</th>\n",
       "      <th>interval</th>\n",
       "    </tr>\n",
       "  </thead>\n",
       "  <tbody>\n",
       "    <tr>\n",
       "      <th>0</th>\n",
       "      <td>2013-06-11 16:59:00.000000</td>\n",
       "      <td>2013-06-11 16:45:00</td>\n",
       "    </tr>\n",
       "    <tr>\n",
       "      <th>1</th>\n",
       "      <td>2013-06-11 21:35:00.000000</td>\n",
       "      <td>2013-06-11 21:30:00</td>\n",
       "    </tr>\n",
       "    <tr>\n",
       "      <th>2</th>\n",
       "      <td>2013-06-11 09:12:44.000000</td>\n",
       "      <td>2013-06-11 09:00:00</td>\n",
       "    </tr>\n",
       "    <tr>\n",
       "      <th>3</th>\n",
       "      <td>2013-11-14 14:38:00.000000</td>\n",
       "      <td>2013-11-14 14:30:00</td>\n",
       "    </tr>\n",
       "    <tr>\n",
       "      <th>4</th>\n",
       "      <td>2013-11-14 13:55:00.000000</td>\n",
       "      <td>2013-11-14 13:45:00</td>\n",
       "    </tr>\n",
       "  </tbody>\n",
       "</table>\n",
       "</div>"
      ],
      "text/plain": [
       "                  CreatedDate             interval\n",
       "0  2013-06-11 16:59:00.000000  2013-06-11 16:45:00\n",
       "1  2013-06-11 21:35:00.000000  2013-06-11 21:30:00\n",
       "2  2013-06-11 09:12:44.000000  2013-06-11 09:00:00\n",
       "3  2013-11-14 14:38:00.000000  2013-11-14 14:30:00\n",
       "4  2013-11-14 13:55:00.000000  2013-11-14 13:45:00"
      ]
     },
     "metadata": {},
     "output_type": "display_data"
    }
   ],
   "source": [
    "minutes = 15\n",
    "seconds = 15*60\n",
    "\n",
    "df = pd.read_sql_query('SELECT CreatedDate, '\n",
    "                               'datetime(('\n",
    "                                   'strftime(\\'%s\\', CreatedDate) / {seconds}) * {seconds}, \\'unixepoch\\') interval '\n",
    "                       'FROM data '\n",
    "                       'LIMIT 10 '.format(seconds=seconds), disk_engine)\n",
    "\n",
    "display(df.head())"
   ]
  },
  {
   "cell_type": "markdown",
   "metadata": {},
   "source": [
    "Then, `GROUP BY` that interval and `COUNT(*)`"
   ]
  },
  {
   "cell_type": "code",
   "execution_count": 44,
   "metadata": {
    "collapsed": false
   },
   "outputs": [
    {
     "data": {
      "text/html": [
       "<div>\n",
       "<table border=\"1\" class=\"dataframe\">\n",
       "  <thead>\n",
       "    <tr style=\"text-align: right;\">\n",
       "      <th></th>\n",
       "      <th>interval</th>\n",
       "      <th>Complaints / interval</th>\n",
       "    </tr>\n",
       "  </thead>\n",
       "  <tbody>\n",
       "    <tr>\n",
       "      <th>0</th>\n",
       "      <td>2013-01-01 00:00:00</td>\n",
       "      <td>1668</td>\n",
       "    </tr>\n",
       "    <tr>\n",
       "      <th>1</th>\n",
       "      <td>2013-01-01 00:15:00</td>\n",
       "      <td>1</td>\n",
       "    </tr>\n",
       "    <tr>\n",
       "      <th>2</th>\n",
       "      <td>2013-01-01 00:30:00</td>\n",
       "      <td>2</td>\n",
       "    </tr>\n",
       "    <tr>\n",
       "      <th>3</th>\n",
       "      <td>2013-01-01 00:45:00</td>\n",
       "      <td>4</td>\n",
       "    </tr>\n",
       "    <tr>\n",
       "      <th>4</th>\n",
       "      <td>2013-01-01 01:00:00</td>\n",
       "      <td>5</td>\n",
       "    </tr>\n",
       "  </tbody>\n",
       "</table>\n",
       "</div>"
      ],
      "text/plain": [
       "              interval  Complaints / interval\n",
       "0  2013-01-01 00:00:00                   1668\n",
       "1  2013-01-01 00:15:00                      1\n",
       "2  2013-01-01 00:30:00                      2\n",
       "3  2013-01-01 00:45:00                      4\n",
       "4  2013-01-01 01:00:00                      5"
      ]
     },
     "metadata": {},
     "output_type": "display_data"
    },
    {
     "data": {
      "text/html": [
       "<div>\n",
       "<table border=\"1\" class=\"dataframe\">\n",
       "  <thead>\n",
       "    <tr style=\"text-align: right;\">\n",
       "      <th></th>\n",
       "      <th>interval</th>\n",
       "      <th>Complaints / interval</th>\n",
       "    </tr>\n",
       "  </thead>\n",
       "  <tbody>\n",
       "    <tr>\n",
       "      <th>495</th>\n",
       "      <td>2013-01-06 04:45:00</td>\n",
       "      <td>3</td>\n",
       "    </tr>\n",
       "    <tr>\n",
       "      <th>496</th>\n",
       "      <td>2013-01-06 05:15:00</td>\n",
       "      <td>1</td>\n",
       "    </tr>\n",
       "    <tr>\n",
       "      <th>497</th>\n",
       "      <td>2013-01-06 05:45:00</td>\n",
       "      <td>3</td>\n",
       "    </tr>\n",
       "    <tr>\n",
       "      <th>498</th>\n",
       "      <td>2013-01-06 06:15:00</td>\n",
       "      <td>1</td>\n",
       "    </tr>\n",
       "    <tr>\n",
       "      <th>499</th>\n",
       "      <td>2013-01-06 06:30:00</td>\n",
       "      <td>2</td>\n",
       "    </tr>\n",
       "  </tbody>\n",
       "</table>\n",
       "</div>"
      ],
      "text/plain": [
       "                interval  Complaints / interval\n",
       "495  2013-01-06 04:45:00                      3\n",
       "496  2013-01-06 05:15:00                      1\n",
       "497  2013-01-06 05:45:00                      3\n",
       "498  2013-01-06 06:15:00                      1\n",
       "499  2013-01-06 06:30:00                      2"
      ]
     },
     "metadata": {},
     "output_type": "display_data"
    }
   ],
   "source": [
    "minutes = 15\n",
    "seconds = minutes*60\n",
    "\n",
    "df = pd.read_sql_query('SELECT datetime(('\n",
    "                                   'strftime(\\'%s\\', CreatedDate) / {seconds}) * {seconds}, \\'unixepoch\\') interval ,'\n",
    "                               'COUNT(*) as \"Complaints / interval\"'\n",
    "                       'FROM data '\n",
    "                       'GROUP BY interval '\n",
    "                       'ORDER BY interval '\n",
    "                       'LIMIT 500'.format(seconds=seconds), disk_engine)\n",
    "\n",
    "display(df.head())\n",
    "display(df.tail())"
   ]
  },
  {
   "cell_type": "code",
   "execution_count": 45,
   "metadata": {
    "collapsed": false
   },
   "outputs": [
    {
     "data": {
      "text/html": [
       "<iframe id=\"igraph\" scrolling=\"no\" style=\"border:none;\" seamless=\"seamless\" src=\"https://plot.ly/~ddeloss/15.embed\" height=\"525px\" width=\"100%\"></iframe>"
      ],
      "text/plain": [
       "<plotly.tools.PlotlyDisplay object>"
      ]
     },
     "execution_count": 45,
     "metadata": {},
     "output_type": "execute_result"
    }
   ],
   "source": [
    "py.iplot(\n",
    "    {\n",
    "        'data': [{\n",
    "            'x': df.interval,\n",
    "            'y': df['Complaints / interval'],\n",
    "            'type': 'bar'\n",
    "        }],\n",
    "        'layout': {\n",
    "            'title': 'Number of 311 Complaints per 15 Minutes'\n",
    "        }\n",
    "}, filename='311/complaints per 15 minutes')"
   ]
  },
  {
   "cell_type": "code",
   "execution_count": 46,
   "metadata": {
    "collapsed": false
   },
   "outputs": [],
   "source": [
    "hours = 24\n",
    "minutes = hours*60\n",
    "seconds = minutes*60\n",
    "\n",
    "df = pd.read_sql_query('SELECT datetime(('\n",
    "                                   'strftime(\\'%s\\', CreatedDate) / {seconds}) * {seconds}, \\'unixepoch\\') interval ,'\n",
    "                               'COUNT(*) as \"Complaints / interval\"'\n",
    "                       'FROM data '\n",
    "                       'GROUP BY interval '\n",
    "                       'ORDER BY interval'.format(seconds=seconds), disk_engine)"
   ]
  },
  {
   "cell_type": "code",
   "execution_count": 47,
   "metadata": {
    "collapsed": false
   },
   "outputs": [
    {
     "data": {
      "text/html": [
       "<iframe id=\"igraph\" scrolling=\"no\" style=\"border:none;\" seamless=\"seamless\" src=\"https://plot.ly/~ddeloss/17.embed\" height=\"525px\" width=\"100%\"></iframe>"
      ],
      "text/plain": [
       "<plotly.tools.PlotlyDisplay object>"
      ]
     },
     "execution_count": 47,
     "metadata": {},
     "output_type": "execute_result"
    }
   ],
   "source": [
    "py.iplot(\n",
    "    {\n",
    "        'data': [{\n",
    "            'x': df.interval,\n",
    "            'y': df['Complaints / interval'],\n",
    "            'type': 'bar'\n",
    "        }],\n",
    "        'layout': {\n",
    "            'title': 'Number of 311 Complaints per Day'\n",
    "        }\n",
    "}, filename='311/complaints per day')"
   ]
  },
  {
   "cell_type": "markdown",
   "metadata": {},
   "source": [
    "### Learn more\n",
    "\n",
    "- Find more open data sets on [Data.gov](https://data.gov) and [NYC Open Data](https://nycopendata.socrata.com)\n",
    "- Learn how to setup [MySql with Pandas and Plotly](http://moderndata.plot.ly/graph-data-from-mysql-database-in-python/)\n",
    "- Add [interactive widgets to IPython notebooks](http://moderndata.plot.ly/widgets-in-ipython-notebook-and-plotly/) for customized data exploration\n",
    "- Big data workflows with [HDF5 and Pandas](http://stackoverflow.com/questions/14262433/large-data-work-flows-using-pandas)\n",
    "- [Interactive graphing with Plotly](https://plot.ly/python/)"
   ]
  },
  {
   "cell_type": "code",
   "execution_count": 48,
   "metadata": {
    "collapsed": false
   },
   "outputs": [
    {
     "data": {
      "text/html": [
       "<style>\n",
       "/*\n",
       "Placeholder for custom user CSS\n",
       "\n",
       "mainly to be overridden in profile/static/custom/custom.css\n",
       "\n",
       "This will always be an empty file in IPython\n",
       "*/\n",
       "\n",
       "\n",
       "div.input_area {\n",
       "    border: 0;\n",
       "    background: rgb(244, 244, 248);\n",
       "}\n",
       "\n",
       ".cm-s-ipython span.cm-keyword {\n",
       "    color: #447bdc;\n",
       "}\n",
       "\n",
       "h1 {\n",
       "    font-family: \"Open sans\",verdana,arial,sans-serif;\n",
       "}\n",
       ".text_cell_render h1 {\n",
       "    font-weight: 300;\n",
       "    font-size: 65px;\n",
       "    line-height: 66px;\n",
       "    letter-spacing: -0.25px;\n",
       "    color: #0089fe;\n",
       "    margin-bottom: 0em;\n",
       "    margin-top: 0em;\n",
       "    display: block;\n",
       "    white-space: nowrap;\n",
       "    margin: 0;\n",
       "}\n",
       "h2 {\n",
       "    font-family: \"Open sans\",verdana,arial,sans-serif;\n",
       "}\n",
       ".text_cell_render h2 {\n",
       "    font-weight: 300;\n",
       "    font-size: 48px;\n",
       "    line-height: 49px;\n",
       "    color:#0089fe;\n",
       "    display: block;\n",
       "    white-space: nowrap;\n",
       "    margin: 0;\n",
       "}\n",
       "h3 {\n",
       "    font-family: \"Open sans\",verdana,arial,sans-serif;\n",
       "}\n",
       ".text_cell_render h3 {\n",
       "    font-weight: 300;\n",
       "    font-size: 36px;\n",
       "    line-height: 37px;\n",
       "    color:#0089fe;\n",
       "    display: block;\n",
       "    white-space: nowrap;\n",
       "    margin: 0;\n",
       "}\n",
       "h4 {\n",
       "    font-family: \"Open sans\",verdana,arial,sans-serif;\n",
       "}\n",
       ".text_cell_render h4 {\n",
       "    font-weight: 300;\n",
       "    font-size: 21px;\n",
       "    line-height: 22px;\n",
       "    color:#0089fe;\n",
       "    display: block;\n",
       "    white-space: nowrap;\n",
       "    margin: 0;\n",
       "}\n",
       "\n",
       "h5 {\n",
       "    font-family: \"Open sans\",verdana,arial,sans-serif;\n",
       "}\n",
       ".text_cell_render h5 {\n",
       "    font-weight: 300;\n",
       "    font-size: 28px;\n",
       "    line-height: 35px;\n",
       "    color:#1e3a7b;\n",
       "    display: block;\n",
       "    white-space: nowrap;\n",
       "    font-style: normal;\n",
       "    margin: 0;\n",
       "}\n",
       "\n",
       "h6 {\n",
       "    font-family: \"Open sans\",verdana,arial,sans-serif;\n",
       "}\n",
       ".text_cell_render h6 {\n",
       "    font-weight: 300;\n",
       "    font-size: 20px;\n",
       "    line-height: 25px;\n",
       "    color:#1e3a7b;\n",
       "    display: block;\n",
       "    white-space: nowrap;\n",
       "    font-style: normal;\n",
       "}\n",
       "\n",
       "div.text_cell_render{\n",
       "    font-family: \"Open sans\",verdana,arial,sans-serif;\n",
       "    line-height: 110%;\n",
       "    text-align:justify;\n",
       "    text-justify:inter-word;\n",
       "    color: #1e4a7b;\n",
       "}\n",
       "div.text_cell_render p{\n",
       "    font-weight: 300;\n",
       "    font-size: 18px;\n",
       "    line-height: 25px;\n",
       "    color: #1e3a7b;\n",
       "}\n",
       "div.output_subarea.output_text.output_pyout {\n",
       "    overflow-x: auto;\n",
       "    overflow-y: scroll;\n",
       "    max-height: 300px;\n",
       "}\n",
       "div.output_subarea.output_stream.output_stdout.output_text {\n",
       "    overflow-x: auto;\n",
       "    overflow-y: scroll;\n",
       "    max-height: 300px;\n",
       "}\n",
       "div.output_subarea.output_html.rendered_html {\n",
       "    overflow-x: scroll;\n",
       "    max-width: 100%;\n",
       "  /*  overflow-y: scroll; */\n",
       "  /*  max-height: 300px;   */\n",
       "}\n",
       "code{\n",
       "  font-size: 78%;\n",
       "}\n",
       ".rendered_html code{\n",
       "    background-color: transparent;\n",
       "    white-space: inherit;\n",
       "}\n",
       "ul{\n",
       "    /* color:#265cc3; */\n",
       "    margin: 2em;\n",
       "}\n",
       "ul li{\n",
       "    padding-left: 0.5em;\n",
       "    margin-bottom: 0.5em;\n",
       "    margin-top: 0.5em;\n",
       "}\n",
       "ul li li{\n",
       "    padding-left: 0.2em;\n",
       "    margin-bottom: 0.2em;\n",
       "    margin-top: 0.2em;\n",
       "}\n",
       "ol{\n",
       "    /* color:#265cc3; */\n",
       "    margin: 2em;\n",
       "}\n",
       "ol li{\n",
       "    padding-left: 0.5em;\n",
       "    margin-bottom: 0.5em;\n",
       "    margin-top: 0.5em;\n",
       "}\n",
       "/*.prompt{\n",
       "    display: None;\n",
       "} */\n",
       "ul li{\n",
       "    padding-left: 0.5em;\n",
       "    margin-bottom: 0.5em;\n",
       "    margin-top: 0.2em;\n",
       "}\n",
       "a:link{\n",
       "   font-weight: bold;\n",
       "   color:#265cc3;\n",
       "}\n",
       "a:visited{\n",
       "   font-weight: bold;\n",
       "   color: #1d3b84;\n",
       "}\n",
       "a:hover{\n",
       "   font-weight: bold;\n",
       "   color: #1d3b84;\n",
       "}\n",
       "a:focus{\n",
       "   font-weight: bold;\n",
       "   color:#265cc3;\n",
       "}\n",
       "a:active{\n",
       "   font-weight: bold;\n",
       "   color:#265cc3;\n",
       "}\n",
       ".rendered_html :link {\n",
       "   text-decoration: none;\n",
       "}\n",
       ".rendered_html :hover {\n",
       "   text-decoration: none;\n",
       "}\n",
       ".rendered_html :visited {\n",
       "  text-decoration: none;\n",
       "}\n",
       ".rendered_html :focus {\n",
       "  text-decoration: none;\n",
       "}\n",
       ".rendered_html :active {\n",
       "  text-decoration: none;\n",
       "}\n",
       ".warning{\n",
       "    color: rgb( 240, 20, 20 )\n",
       "}\n",
       "hr {\n",
       "  color: #f3f3f3;\n",
       "  background-color: #f3f3f3;\n",
       "  height: 1px;\n",
       "}\n",
       "blockquote{\n",
       "  display:block;\n",
       "  background: #f3f3f3;\n",
       "  font-family: \"Open sans\",verdana,arial,sans-serif;\n",
       "  width:610px;\n",
       "  padding: 15px 15px 15px 15px;\n",
       "  text-align:justify;\n",
       "  text-justify:inter-word;\n",
       "  }\n",
       "  blockquote p {\n",
       "    margin-bottom: 0;\n",
       "    line-height: 125%;\n",
       "    font-size: 100%;\n",
       "    text-align: center;\n",
       "  }\n",
       "/* element.style {\n",
       "} */\n",
       "</script>\n"
      ],
      "text/plain": [
       "<IPython.core.display.HTML object>"
      ]
     },
     "execution_count": 48,
     "metadata": {},
     "output_type": "execute_result"
    }
   ],
   "source": [
    "from IPython.core.display import HTML\n",
    "import urllib2\n",
    "HTML(urllib2.urlopen('https://raw.githubusercontent.com/plotly/python-user-guide/css-updates/custom.css').read())"
   ]
  },
  {
   "cell_type": "code",
   "execution_count": null,
   "metadata": {
    "collapsed": true
   },
   "outputs": [],
   "source": []
  }
 ],
 "metadata": {
  "kernelspec": {
   "display_name": "Python 2",
   "language": "python",
   "name": "python2"
  },
  "language_info": {
   "codemirror_mode": {
    "name": "ipython",
    "version": 2
   },
   "file_extension": ".py",
   "mimetype": "text/x-python",
   "name": "python",
   "nbconvert_exporter": "python",
   "pygments_lexer": "ipython2",
   "version": "2.7.11"
  }
 },
 "nbformat": 4,
 "nbformat_minor": 0
}
